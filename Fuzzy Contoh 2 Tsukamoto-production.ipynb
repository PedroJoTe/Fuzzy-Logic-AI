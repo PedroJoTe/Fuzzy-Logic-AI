{
 "cells": [
  {
   "cell_type": "code",
   "execution_count": 1,
   "metadata": {
    "scrolled": true
   },
   "outputs": [
    {
     "ename": "ModuleNotFoundError",
     "evalue": "No module named 'skfuzzy'",
     "output_type": "error",
     "traceback": [
      "\u001b[0;31m---------------------------------------------------------------------------\u001b[0m",
      "\u001b[0;31mModuleNotFoundError\u001b[0m                       Traceback (most recent call last)",
      "\u001b[0;32m<ipython-input-1-1b9774ff1f58>\u001b[0m in \u001b[0;36m<module>\u001b[0;34m\u001b[0m\n\u001b[1;32m      1\u001b[0m \u001b[0;32mimport\u001b[0m \u001b[0mnumpy\u001b[0m \u001b[0;32mas\u001b[0m \u001b[0mnp\u001b[0m\u001b[0;34m\u001b[0m\u001b[0m\n\u001b[0;32m----> 2\u001b[0;31m \u001b[0;32mimport\u001b[0m \u001b[0mskfuzzy\u001b[0m \u001b[0;32mas\u001b[0m \u001b[0mfuzz\u001b[0m\u001b[0;34m\u001b[0m\u001b[0m\n\u001b[0m\u001b[1;32m      3\u001b[0m \u001b[0;32mimport\u001b[0m \u001b[0mmatplotlib\u001b[0m\u001b[0;34m.\u001b[0m\u001b[0mpyplot\u001b[0m \u001b[0;32mas\u001b[0m \u001b[0mplt\u001b[0m\u001b[0;34m\u001b[0m\u001b[0m\n\u001b[1;32m      4\u001b[0m \u001b[0mget_ipython\u001b[0m\u001b[0;34m(\u001b[0m\u001b[0;34m)\u001b[0m\u001b[0;34m.\u001b[0m\u001b[0mrun_line_magic\u001b[0m\u001b[0;34m(\u001b[0m\u001b[0;34m'matplotlib'\u001b[0m\u001b[0;34m,\u001b[0m \u001b[0;34m'inline'\u001b[0m\u001b[0;34m)\u001b[0m\u001b[0;34m\u001b[0m\u001b[0m\n\u001b[1;32m      5\u001b[0m \u001b[0;31m# Generate universe variables\u001b[0m\u001b[0;34m\u001b[0m\u001b[0;34m\u001b[0m\u001b[0m\n",
      "\u001b[0;31mModuleNotFoundError\u001b[0m: No module named 'skfuzzy'"
     ]
    }
   ],
   "source": [
    "import numpy as np\n",
    "import skfuzzy as fuzz\n",
    "import matplotlib.pyplot as plt\n",
    "%matplotlib inline\n",
    "# Generate universe variables\n",
    "\n",
    "x_minta = np.arange(0, 6000, 1)\n",
    "x_sedia = np.arange(0, 700, 1)\n",
    "x_produksi  = np.arange(0, 9000, 1)\n",
    "\n",
    "# Generate fuzzy membership functions\n",
    "minta_sd = fuzz.trapmf(x_minta, [0, 0, 1000, 5000])\n",
    "minta_by = fuzz.trapmf(x_minta, [1000, 5000, 6000, 6000])\n",
    "\n",
    "sedia_sd = fuzz.trapmf(x_sedia, [0, 0, 100, 600])\n",
    "sedia_by = fuzz.trapmf(x_sedia, [100, 600, 700, 700])\n",
    "\n",
    "produksi_kr  = fuzz.trapmf(x_produksi, [0, 0, 2000, 7000])\n",
    "produksi_tb  = fuzz.trapmf(x_produksi, [2000, 7000, 9000, 9000])\n",
    "\n",
    "\n",
    "# Visualize these universes and membership functions\n",
    "fig, (ax0, ax1, ax2) = plt.subplots(nrows=3, figsize=(8, 9))\n",
    "\n",
    "ax0.plot(x_minta, minta_sd, 'b', linewidth=1.5, label='Sedikit')\n",
    "ax0.plot(x_minta, minta_by, 'g', linewidth=1.5, label='Banyak')\n",
    "\n",
    "ax0.set_title('Permintaan')\n",
    "ax0.legend()\n",
    "\n",
    "ax1.plot(x_sedia, sedia_sd, 'b', linewidth=1.5, label='Sedikit')\n",
    "ax1.plot(x_sedia, sedia_by, 'g', linewidth=1.5, label='Banyak')\n",
    "\n",
    "\n",
    "ax1.set_title('Persediaan')\n",
    "ax1.legend()\n",
    "\n",
    "ax2.plot(x_produksi, produksi_kr, 'b', linewidth=1.5, label='Berkurang')\n",
    "ax2.plot(x_produksi, produksi_tb, 'g', linewidth=1.5, label='Bertambah')\n",
    "\n",
    "ax2.set_title('Produksi')\n",
    "ax2.legend()\n",
    "\n",
    "# Turn off top/right axes\n",
    "for ax in (ax0, ax1, ax2):\n",
    "    ax.spines['top'].set_visible(False)\n",
    "    ax.spines['right'].set_visible(False)\n",
    "    ax.get_xaxis().tick_bottom()\n",
    "    ax.get_yaxis().tick_left()\n",
    "\n",
    "plt.tight_layout()"
   ]
  },
  {
   "cell_type": "code",
   "execution_count": 6,
   "metadata": {
    "scrolled": true
   },
   "outputs": [],
   "source": [
    "##  Crisp Input\n",
    "minta = 2000\n",
    "sedia = 300"
   ]
  },
  {
   "cell_type": "code",
   "execution_count": 7,
   "metadata": {
    "scrolled": true
   },
   "outputs": [
    {
     "name": "stdout",
     "output_type": "stream",
     "text": [
      "Derajat Kranggotaan Persediaan \n",
      "Sedikit : 0.6\n",
      "Banyak  : 0.4\n",
      "\n",
      "Derajat Kranggotaan Permintaan\n",
      "Sedikit : 0.75\n",
      "Banyak  : 0.25\n"
     ]
    }
   ],
   "source": [
    "## Fuzzyfication #Tsukamoto\n",
    "in1 = []\n",
    "in1.append(fuzz.interp_membership(x_minta, minta_sd, minta))\n",
    "in1.append(fuzz.interp_membership(x_minta, minta_by, minta))\n",
    "in2 = []\n",
    "in2.append(fuzz.interp_membership(x_sedia, sedia_sd, sedia))\n",
    "in2.append(fuzz.interp_membership(x_sedia, sedia_by, sedia))\n",
    "\n",
    "print(\"Derajat Kranggotaan Persediaan \")\n",
    "if in1[0]>0 :\n",
    "    print(\"Sedikit : \"+str(in2[0]))\n",
    "if in1[1]>0 :\n",
    "    print(\"Banyak  : \"+ str(in2[1]))\n",
    "\n",
    "print(\"\")\n",
    "print(\"Derajat Kranggotaan Permintaan\")\n",
    "if in2[0]>0 :\n",
    "    print(\"Sedikit : \"+str(in1[0]))\n",
    "if in2[1]>0 :\n",
    "    print(\"Banyak  : \"+ str(in1[1]))"
   ]
  },
  {
   "cell_type": "code",
   "execution_count": 8,
   "metadata": {},
   "outputs": [
    {
     "name": "stdout",
     "output_type": "stream",
     "text": [
      "(3250.0, 4000.0, 5000.0, 3250.0)\n",
      "Barang yang harus di produksi : 4016\n"
     ]
    }
   ],
   "source": [
    "## Rules and Inferences Tsukamoto\n",
    "# krg = 7000 - (active_rule3)*5000\n",
    "# tbh = 5000*deg + 2000\n",
    "\n",
    "apred1  = np.fmin(in1[1], in2[1])\n",
    "z1      = 5000*apred1 + 2000\n",
    "\n",
    "apred2  = np.fmin(in1[0], in2[0])\n",
    "z2      = 7000-(apred2)*5000\n",
    "\n",
    "apred3  = np.fmin(in1[0], in2[1])\n",
    "z3      = 7000-(apred3)*5000\n",
    "\n",
    "apred4  = np.fmin(in1[1], in2[0])\n",
    "z4      = 5000*apred4 + 2000\n",
    "\n",
    "print(z1,z2,z3,z4)\n",
    "## Defazzyfication\n",
    "z = (apred1*z1 + apred2*z2 + apred3*z3 + apred4*z4)/ (apred1 + apred2+ apred3 + apred4)\n",
    "print(\"Barang yang harus di produksi : \"+str(int(z)))"
   ]
  },
  {
   "cell_type": "markdown",
   "metadata": {},
   "source": [
    "#### Another approach"
   ]
  },
  {
   "cell_type": "code",
   "execution_count": null,
   "metadata": {},
   "outputs": [],
   "source": [
    "act_minta_sd  = fuzz.interp_membership(x_minta, minta_sd, minta)\n",
    "act_minta_by  = fuzz.interp_membership(x_minta, minta_by, minta)\n",
    "\n",
    "act_sedia_sd = fuzz.interp_membership(x_sedia, sedia_sd, sedia)\n",
    "act_sedia_by = fuzz.interp_membership(x_sedia, sedia_by, sedia)\n",
    "\n",
    "\n",
    "active_rule1 = np.fmax(act_minta_by, act_sedia_by)\n",
    "act_produksi_tb = np.fmin(active_rule1, produksi_tb)\n",
    "\n",
    "active_rule2 = np.fmax(act_minta_sd, act_sedia_sd)\n",
    "act_produksi_kr = np.fmin(active_rule2, produksi_kr)\n",
    "\n",
    "active_rule3 = np.fmax(act_minta_sd, act_sedia_by)\n",
    "act_produksi_kr2 = np.fmin(active_rule3, produksi_kr)\n",
    "\n",
    "active_rule4 = np.fmax(act_minta_by, act_sedia_sd)\n",
    "act_produksi_tb2 = np.fmin(active_rule4, produksi_tb)\n",
    "\n",
    "tip0 = np.zeros_like(x_produksi)\n",
    "\n",
    "# Visualize this\n",
    "fig, ax0 = plt.subplots(figsize=(8, 3))\n",
    "\n",
    "ax0.fill_between(x_produksi, tip0, act_produksi_kr, facecolor='b', alpha=0.7)\n",
    "ax0.plot(x_produksi, produksi_kr, 'b', linewidth=0.5, linestyle='--', )\n",
    "ax0.fill_between(x_produksi, tip0, act_produksi_tb, facecolor='g', alpha=0.7)\n",
    "ax0.plot(x_produksi, produksi_tb, 'g', linewidth=0.5, linestyle='--')\n",
    "#ax0.fill_between(x_produksi, tip0, act_produksi_kr2, facecolor='r', alpha=0.7)\n",
    "#ax0.fill_between(x_produksi, tip0, act_produksi_tb2, facecolor='grey', alpha=0.7)\n",
    "ax0.set_title('Output membership activity')\n",
    "\n",
    "# Turn off top/right axes\n",
    "for ax in (ax0,):\n",
    "    ax.spines['top'].set_visible(False)\n",
    "    ax.spines['right'].set_visible(False)\n",
    "    ax.get_xaxis().tick_bottom()\n",
    "    ax.get_yaxis().tick_left()\n",
    "\n",
    "plt.tight_layout()"
   ]
  },
  {
   "cell_type": "code",
   "execution_count": null,
   "metadata": {},
   "outputs": [],
   "source": [
    "# Aggregate all output membership functions together\n",
    "aggregated = np.fmax(act_produksi_tb,\n",
    "             np.fmax(act_produksi_kr, \n",
    "             np.fmax(act_produksi_kr2, act_produksi_tb2)))"
   ]
  },
  {
   "cell_type": "code",
   "execution_count": null,
   "metadata": {},
   "outputs": [],
   "source": [
    "# Calculate defuzzified result\n",
    "tip = fuzz.defuzz(x_produksi, aggregated, 'centroid')\n",
    "tip_activation = fuzz.interp_membership(x_produksi, aggregated, tip)  # for plot\n",
    "\n",
    "# Visualize this\n",
    "fig, ax0 = plt.subplots(figsize=(8, 3))\n",
    "\n",
    "ax0.plot(x_produksi, produksi_kr, 'g', linewidth=0.5, linestyle='--')\n",
    "ax0.plot(x_produksi, produksi_tb, 'r', linewidth=0.5, linestyle='--')\n",
    "\n",
    "ax0.fill_between(x_produksi, tip0, aggregated, facecolor='Orange', alpha=0.7)\n",
    "ax0.plot([tip, tip], [0, tip_activation], 'k', linewidth=1.5, alpha=0.9)\n",
    "ax0.set_title('Aggregated membership and result (line)')\n",
    "\n",
    "# Turn off top/right axes\n",
    "for ax in (ax0,):\n",
    "    ax.spines['top'].set_visible(False)\n",
    "    ax.spines['right'].set_visible(False)\n",
    "    ax.get_xaxis().tick_bottom()\n",
    "    ax.get_yaxis().tick_left()\n",
    "\n",
    "plt.tight_layout()\n"
   ]
  },
  {
   "cell_type": "code",
   "execution_count": null,
   "metadata": {},
   "outputs": [],
   "source": []
  }
 ],
 "metadata": {
  "kernelspec": {
   "display_name": "Python 3",
   "language": "python",
   "name": "python3"
  },
  "language_info": {
   "codemirror_mode": {
    "name": "ipython",
    "version": 3
   },
   "file_extension": ".py",
   "mimetype": "text/x-python",
   "name": "python",
   "nbconvert_exporter": "python",
   "pygments_lexer": "ipython3",
   "version": "3.7.5"
  }
 },
 "nbformat": 4,
 "nbformat_minor": 2
}
